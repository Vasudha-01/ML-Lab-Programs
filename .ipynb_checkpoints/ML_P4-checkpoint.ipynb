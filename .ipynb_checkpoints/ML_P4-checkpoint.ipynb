{
 "cells": [
  {
   "cell_type": "code",
   "execution_count": null,
   "id": "f7ead9df",
   "metadata": {},
   "outputs": [],
   "source": [
    "import numpy as np \n",
    "X = np.array(([2, 9], [1, 5], [3, 6]), dtype=float) \n",
    "y = np.array(([92], [86], [89]), dtype=float) \n",
    "X = X/np.amax(X,axis=0) # maximum of X array longitudinally  \n",
    "y = y/100 "
   ]
  },
  {
   "cell_type": "code",
   "execution_count": null,
   "id": "e7683d50",
   "metadata": {},
   "outputs": [],
   "source": [
    "def sigmoid (x): \n",
    "    return 1/(1 + np.exp(-x))"
   ]
  },
  {
   "cell_type": "code",
   "execution_count": null,
   "id": "b4d01437",
   "metadata": {},
   "outputs": [],
   "source": [
    "def derivatives_sigmoid(x): \n",
    "    return x * (1 - x)"
   ]
  },
  {
   "cell_type": "code",
   "execution_count": null,
   "id": "33cad79e",
   "metadata": {},
   "outputs": [],
   "source": [
    "epoch=500 \n",
    "lr=0.1 \n",
    "inputlayer_neurons = 2   \n",
    "hiddenlayer_neurons = 3   \n",
    "output_neurons = 1"
   ]
  },
  {
   "cell_type": "code",
   "execution_count": null,
   "id": "8b4c900b",
   "metadata": {},
   "outputs": [],
   "source": [
    "wh=np.random.uniform(size=(inputlayer_neurons,hiddenlayer_neurons)) \n",
    "bh=np.random.uniform(size=(1,hiddenlayer_neurons))  \n",
    "wout=np.random.uniform(size=(hiddenlayer_neurons,output_neurons)) \n",
    "bout=np.random.uniform(size=(1,output_neurons))"
   ]
  },
  {
   "cell_type": "code",
   "execution_count": null,
   "id": "c11368c2",
   "metadata": {},
   "outputs": [],
   "source": [
    "for i in range(epoch): \n",
    "# Forward Propogation  \n",
    "    hinp1=np.dot(X,wh)  \n",
    "    hinp=hinp1 + bh \n",
    "    hlayer_act = sigmoid(hinp)  \n",
    "    outinp1=np.dot(hlayer_act,wout)  \n",
    "    outinp= outinp1+ bout \n",
    "    output = sigmoid(outinp) \n",
    "    EO = y-output \n",
    "    outgrad = derivatives_sigmoid(output)  \n",
    "    d_output = EO* outgrad \n",
    "    EH = d_output.dot(wout.T) \n",
    "    hiddengrad = derivatives_sigmoid(hlayer_act)  \n",
    "    d_hiddenlayer = EH * hiddengrad\n",
    "    wout += hlayer_act.T.dot(d_output) *lr \n",
    "    wh += X.T.dot(d_hiddenlayer) *lr"
   ]
  },
  {
   "cell_type": "code",
   "execution_count": null,
   "id": "1208913e",
   "metadata": {},
   "outputs": [],
   "source": [
    "print(\"\\n Input: \\n\" + str(X))  \n",
    "print(\"\\n Actual Output: \\n\" + str(y))  \n",
    "print(\"\\n Predicted Output: \\n\" ,output) "
   ]
  }
 ],
 "metadata": {
  "kernelspec": {
   "display_name": "Python 3 (ipykernel)",
   "language": "python",
   "name": "python3"
  },
  "language_info": {
   "codemirror_mode": {
    "name": "ipython",
    "version": 3
   },
   "file_extension": ".py",
   "mimetype": "text/x-python",
   "name": "python",
   "nbconvert_exporter": "python",
   "pygments_lexer": "ipython3",
   "version": "3.11.5"
  }
 },
 "nbformat": 4,
 "nbformat_minor": 5
}
