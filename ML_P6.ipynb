{
 "cells": [
  {
   "cell_type": "code",
   "execution_count": null,
   "id": "ba62c79f",
   "metadata": {},
   "outputs": [],
   "source": [
    "!pip install pgmpy \n",
    "import numpy as np \n",
    "import pandas as pd \n",
    "import csv \n",
    "from pgmpy.estimators import MaximumLikelihoodEstimator \n",
    "from pgmpy.models import BayesianNetwork \n",
    "from pgmpy.inference import VariableElimination"
   ]
  },
  {
   "cell_type": "code",
   "execution_count": null,
   "id": "e7cde5aa",
   "metadata": {},
   "outputs": [],
   "source": [
    "heartDisease = pd.read_csv('/content/drive/MyDrive/heart.csv') \n",
    "heartDisease = heartDisease.replace('?',np.nan) \n",
    "print('Sample instances from the dataset are given below') \n",
    "print(heartDisease.head()) "
   ]
  },
  {
   "cell_type": "code",
   "execution_count": null,
   "id": "ba7a9f4a",
   "metadata": {},
   "outputs": [],
   "source": [
    "print('\\n Attributes and datatypes') \n",
    "print(heartDisease.dtypes)"
   ]
  },
  {
   "cell_type": "code",
   "execution_count": null,
   "id": "2eb6f199",
   "metadata": {},
   "outputs": [],
   "source": [
    "model= BayesianNetwork([('age','target'),('sex','target'),('exang','target'),('cp','target'),('target','restecg'),('target','chol')]) "
   ]
  },
  {
   "cell_type": "code",
   "execution_count": null,
   "id": "f3637c43",
   "metadata": {},
   "outputs": [],
   "source": [
    "print('\\nLearning CPD using Maximum likelihood estimators') \n",
    "model.fit(heartDisease,estimator=MaximumLikelihoodEstimator) "
   ]
  },
  {
   "cell_type": "code",
   "execution_count": null,
   "id": "dbdf2943",
   "metadata": {},
   "outputs": [],
   "source": [
    "print('\\n Inferencing with Bayesian Network:') \n",
    "HeartDiseasetest_infer = VariableElimination(model)"
   ]
  },
  {
   "cell_type": "code",
   "execution_count": null,
   "id": "3c5d7f4a",
   "metadata": {},
   "outputs": [],
   "source": [
    "print('\\n 1. Probability of HeartDisease given evidence= restecg') \n",
    "q1=HeartDiseasetest_infer.query(variables=['target'],evidence={'restecg':1}) \n",
    "print(q1) "
   ]
  },
  {
   "cell_type": "code",
   "execution_count": null,
   "id": "d91f314c",
   "metadata": {},
   "outputs": [],
   "source": [
    "print('\\n 2. Probability of HeartDisease given evidence= cp ') \n",
    "q2=HeartDiseasetest_infer.query(variables=['target'],evidence={'cp':2}) \n",
    "print(q2)"
   ]
  }
 ],
 "metadata": {
  "kernelspec": {
   "display_name": "Python 3 (ipykernel)",
   "language": "python",
   "name": "python3"
  },
  "language_info": {
   "codemirror_mode": {
    "name": "ipython",
    "version": 3
   },
   "file_extension": ".py",
   "mimetype": "text/x-python",
   "name": "python",
   "nbconvert_exporter": "python",
   "pygments_lexer": "ipython3",
   "version": "3.11.5"
  }
 },
 "nbformat": 4,
 "nbformat_minor": 5
}
