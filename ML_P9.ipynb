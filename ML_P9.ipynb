{
 "cells": [
  {
   "cell_type": "code",
   "execution_count": null,
   "id": "653a2a27",
   "metadata": {},
   "outputs": [],
   "source": [
    "import numpy as np \n",
    "import matplotlib.pyplot as plt "
   ]
  },
  {
   "cell_type": "code",
   "execution_count": null,
   "id": "a08200c2",
   "metadata": {},
   "outputs": [],
   "source": [
    "np.random.seed(0) \n",
    "X = np.linspace(0, 10, 100) \n",
    "y = np.sin(X) + np.random.normal(scale=0.5, size=X.shape) \n",
    "plt.scatter(X, y, label='Data points') \n",
    "plt.xlabel('X') \n",
    "plt.ylabel('y') \n",
    "plt.title('Synthetic Dataset') \n",
    "plt.legend() \n",
    "plt.show() "
   ]
  },
  {
   "cell_type": "code",
   "execution_count": null,
   "id": "ae6da5ba",
   "metadata": {},
   "outputs": [],
   "source": [
    "m = X.shape[0] \n",
    "y_pred = np.zeros_like(x_query) \n",
    "for i, x_q in enumerate(x_query):  \n",
    "    weights = np.exp(- (X - x_q) ** 2 / (2 * tau ** 2)) \n",
    "    W = np.diag(weights) \n",
    "    X_ = np.vstack([np.ones(m), X]).T \n",
    "    theta = np.linalg.inv(X_.T @ W @ X_) @ X_.T @ W @ y \n",
    "    y_pred[i] = np.array([1, x_q]) @ theta \n",
    "return y_pred "
   ]
  },
  {
   "cell_type": "code",
   "execution_count": null,
   "id": "acb0dd7f",
   "metadata": {},
   "outputs": [],
   "source": [
    "tau = 0.5  # Bandwidth parameter \n",
    "# Predict values \n",
    "x_query = np.linspace(0, 10, 100) \n",
    "y_pred = locally_weighted_regression(X, y, x_query, tau) "
   ]
  },
  {
   "cell_type": "code",
   "execution_count": null,
   "id": "8b13d80c",
   "metadata": {},
   "outputs": [],
   "source": [
    "plt.scatter(X, y, label='Data points') \n",
    "plt.plot(x_query, y_pred, color='red', label='LWR fit') \n",
    "plt.xlabel('X') \n",
    "plt.ylabel('y') \n",
    "plt.title('Locally Weighted Regression') \n",
    "plt.legend() \n",
    "plt.show()"
   ]
  }
 ],
 "metadata": {
  "kernelspec": {
   "display_name": "Python 3 (ipykernel)",
   "language": "python",
   "name": "python3"
  },
  "language_info": {
   "codemirror_mode": {
    "name": "ipython",
    "version": 3
   },
   "file_extension": ".py",
   "mimetype": "text/x-python",
   "name": "python",
   "nbconvert_exporter": "python",
   "pygments_lexer": "ipython3",
   "version": "3.11.5"
  }
 },
 "nbformat": 4,
 "nbformat_minor": 5
}
