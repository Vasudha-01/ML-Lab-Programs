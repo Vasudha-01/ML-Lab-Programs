{
 "cells": [
  {
   "cell_type": "code",
   "execution_count": null,
   "id": "70933ac3",
   "metadata": {},
   "outputs": [],
   "source": [
    "import numpy as np \n",
    "import pandas as pd \n",
    "import matplotlib.pyplot as plt \n",
    "from sklearn import datasets \n",
    "from sklearn.model_selection import train_test_split \n",
    "from sklearn.svm import SVC \n",
    "from sklearn.metrics import classification_report, confusion_matrix, accuracy_score "
   ]
  },
  {
   "cell_type": "code",
   "execution_count": null,
   "id": "db1fd132",
   "metadata": {},
   "outputs": [],
   "source": [
    "iris = datasets.load_iris() \n",
    "X = iris.data \n",
    "y = iris.target \n",
    "print(\"Features:\\n\", iris.feature_names) \n",
    "print(\"Classes:\\n\", iris.target_names) "
   ]
  },
  {
   "cell_type": "code",
   "execution_count": null,
   "id": "27dcbaba",
   "metadata": {},
   "outputs": [],
   "source": [
    "df = pd.DataFrame(data=np.c_[iris['data'], iris['target']], columns=iris['feature_names'] + ['target']) \n",
    "print(\"\\nFirst 5 rows of the dataset:\\n\", df.head())"
   ]
  },
  {
   "cell_type": "code",
   "execution_count": null,
   "id": "2372bb0a",
   "metadata": {},
   "outputs": [],
   "source": [
    "plt.figure(figsize=(10, 6)) \n",
    "plt.scatter(X[:, 0], X[:, 1], c=y, cmap='viridis', edgecolor='k', s=50) \n",
    "plt.xlabel('Sepal Length') \n",
    "plt.ylabel('Sepal Width') \n",
    "plt.title('Iris Data Sepal Length vs Sepal Width') \n",
    "plt.show() "
   ]
  },
  {
   "cell_type": "code",
   "execution_count": null,
   "id": "307376b9",
   "metadata": {},
   "outputs": [],
   "source": [
    "X_train, X_test, y_train, y_test = train_test_split(X, y, test_size=0.3, random_state=42) "
   ]
  },
  {
   "cell_type": "code",
   "execution_count": null,
   "id": "73dcbc29",
   "metadata": {},
   "outputs": [],
   "source": [
    "svm_classifier = SVC(kernel='linear', C=1.0, random_state=42) \n",
    "# Train the classifier \n",
    "svm_classifier.fit(X_train, y_train)"
   ]
  },
  {
   "cell_type": "code",
   "execution_count": null,
   "id": "02278f57",
   "metadata": {},
   "outputs": [],
   "source": [
    "y_pred = svm_classifier.predict(X_test)"
   ]
  },
  {
   "cell_type": "code",
   "execution_count": null,
   "id": "f6960af6",
   "metadata": {},
   "outputs": [],
   "source": [
    "print(\"\\nConfusion Matrix:\\n\", confusion_matrix(y_test, y_pred)) \n",
    "print(\"\\nClassification Report:\\n\", classification_report(y_test, y_pred)) \n",
    "print(\"\\nAccuracy Score:\\n\", accuracy_score(y_test, y_pred))"
   ]
  },
  {
   "cell_type": "code",
   "execution_count": null,
   "id": "cbfce435",
   "metadata": {},
   "outputs": [],
   "source": [
    "svm_classifier_rbf = SVC(random_state = 42) \n",
    "svm_classifier_rbf.fit(X_train, y_train)"
   ]
  },
  {
   "cell_type": "code",
   "execution_count": null,
   "id": "ba83c3cb",
   "metadata": {},
   "outputs": [],
   "source": [
    "y_pred = svm_classifier_rbf.predict(X_test)"
   ]
  },
  {
   "cell_type": "code",
   "execution_count": null,
   "id": "c374548a",
   "metadata": {},
   "outputs": [],
   "source": [
    "print(\"\\nConfusion Matrix:\\n\", confusion_matrix(y_test, y_pred)) \n",
    "print(\"\\nClassification Report:\\n\", classification_report(y_test, y_pred)) \n",
    "print(\"\\nAccuracy Score:\\n\", accuracy_score(y_test, y_pred)) "
   ]
  },
  {
   "cell_type": "code",
   "execution_count": null,
   "id": "505b0b50",
   "metadata": {},
   "outputs": [],
   "source": [
    "svm_classifier_poly = SVC(kernel = 'poly', random_state = 42) \n",
    "svm_classifier_poly.fit(X_train, y_train) "
   ]
  },
  {
   "cell_type": "code",
   "execution_count": null,
   "id": "565433a0",
   "metadata": {},
   "outputs": [],
   "source": [
    "y_pred = svm_classifier_poly.predict(X_test) "
   ]
  },
  {
   "cell_type": "code",
   "execution_count": null,
   "id": "6e732735",
   "metadata": {},
   "outputs": [],
   "source": [
    "print(\"\\nConfusion Matrix:\\n\", confusion_matrix(y_test, y_pred)) \n",
    "print(\"\\nClassification Report:\\n\", classification_report(y_test, y_pred)) \n",
    "print(\"\\nAccuracy Score:\\n\", accuracy_score(y_test, y_pred))"
   ]
  }
 ],
 "metadata": {
  "kernelspec": {
   "display_name": "Python 3 (ipykernel)",
   "language": "python",
   "name": "python3"
  },
  "language_info": {
   "codemirror_mode": {
    "name": "ipython",
    "version": 3
   },
   "file_extension": ".py",
   "mimetype": "text/x-python",
   "name": "python",
   "nbconvert_exporter": "python",
   "pygments_lexer": "ipython3",
   "version": "3.11.5"
  }
 },
 "nbformat": 4,
 "nbformat_minor": 5
}
