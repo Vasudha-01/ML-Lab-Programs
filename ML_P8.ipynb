{
 "cells": [
  {
   "cell_type": "code",
   "execution_count": null,
   "id": "c84b9063",
   "metadata": {},
   "outputs": [],
   "source": [
    "import pandas as pd \n",
    "from sklearn.datasets import load_iris \n",
    "from sklearn.model_selection import train_test_split \n",
    "from sklearn.neighbors import KNeighborsClassifier \n",
    "from sklearn.metrics import accuracy_score "
   ]
  },
  {
   "cell_type": "code",
   "execution_count": null,
   "id": "95060c39",
   "metadata": {},
   "outputs": [],
   "source": [
    "iris = load_iris() \n",
    "data = pd.DataFrame(data=iris.data, columns=iris.feature_names) \n",
    "data['target'] = iris.target "
   ]
  },
  {
   "cell_type": "code",
   "execution_count": null,
   "id": "0ac500b4",
   "metadata": {},
   "outputs": [],
   "source": [
    "X = data.drop('target', axis=1) \n",
    "y = data['target'] \n",
    "X_train, X_test, y_train, y_test = train_test_split(X, y, test_size=0.2, \n",
    "random_state=42) "
   ]
  },
  {
   "cell_type": "code",
   "execution_count": null,
   "id": "812e83af",
   "metadata": {},
   "outputs": [],
   "source": [
    "k = 3  # Number of neighbors \n",
    "knn = KNeighborsClassifier(n_neighbors=k) \n",
    "knn.fit(X_train, y_train) "
   ]
  },
  {
   "cell_type": "code",
   "execution_count": null,
   "id": "361b618f",
   "metadata": {},
   "outputs": [],
   "source": [
    "y_pred = knn.predict(X_test)"
   ]
  },
  {
   "cell_type": "code",
   "execution_count": null,
   "id": "65e9e99a",
   "metadata": {},
   "outputs": [],
   "source": [
    "accuracy = accuracy_score(y_test, y_pred) \n",
    "print(f'Accuracy: {accuracy:.2f}') "
   ]
  },
  {
   "cell_type": "code",
   "execution_count": null,
   "id": "69c28163",
   "metadata": {},
   "outputs": [],
   "source": [
    "from sklearn.metrics import confusion_matrix \n",
    "cm = confusion_matrix(y_test, y_pred) \n",
    "print(\"Confusion Matrix: \\n\", cm)"
   ]
  },
  {
   "cell_type": "code",
   "execution_count": null,
   "id": "e957ba44",
   "metadata": {},
   "outputs": [],
   "source": [
    "correct_predictions = [] \n",
    "wrong_predictions = [] "
   ]
  },
  {
   "cell_type": "code",
   "execution_count": null,
   "id": "2ff30019",
   "metadata": {},
   "outputs": [],
   "source": [
    "for i in range(len(y_test)): \n",
    "    if y_test.iloc[i] == y_pred[i]: \n",
    "        correct_predictions.append((X_test.iloc[i].tolist(), y_test.iloc[i], y_pred[i])) \n",
    "    else: \n",
    "        wrong_predictions.append((X_test.iloc[i].tolist(), y_test.iloc[i], y_pred[i]))"
   ]
  },
  {
   "cell_type": "code",
   "execution_count": null,
   "id": "5c5a6d41",
   "metadata": {},
   "outputs": [],
   "source": [
    "print(\"\\nCorrect Predictions:\") \n",
    "for cp in correct_predictions: \n",
    "    print(f\"Features: {cp[0]}, True Label: {cp[1]}, Predicted Label: {cp[2]}\") \n",
    "print(\"\\nWrong Predictions:\") \n",
    "for wp in wrong_predictions: \n",
    "    print(f\"Features: {wp[0]}, True Label: {wp[1]}, Predicted Label: {wp[2]}\") "
   ]
  }
 ],
 "metadata": {
  "kernelspec": {
   "display_name": "Python 3 (ipykernel)",
   "language": "python",
   "name": "python3"
  },
  "language_info": {
   "codemirror_mode": {
    "name": "ipython",
    "version": 3
   },
   "file_extension": ".py",
   "mimetype": "text/x-python",
   "name": "python",
   "nbconvert_exporter": "python",
   "pygments_lexer": "ipython3",
   "version": "3.11.5"
  }
 },
 "nbformat": 4,
 "nbformat_minor": 5
}
