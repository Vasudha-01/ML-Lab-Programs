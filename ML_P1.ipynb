{
 "cells": [
  {
   "cell_type": "code",
   "execution_count": null,
   "id": "7eaba574",
   "metadata": {},
   "outputs": [],
   "source": [
    "import pandas as pd"
   ]
  },
  {
   "cell_type": "code",
   "execution_count": null,
   "id": "2121b10f",
   "metadata": {},
   "outputs": [],
   "source": [
    "data = pd.read_csv('Dataset10.csv') \n",
    "data.head() "
   ]
  },
  {
   "cell_type": "code",
   "execution_count": null,
   "id": "e9d3b624",
   "metadata": {},
   "outputs": [],
   "source": [
    "data = data.drop(['Day'], axis = 1) \n",
    "data.head() \n",
    "attribute=np.array(data)[:,:-1] \n",
    "print(attribute) \n",
    "target=np.array(data)[:,-1] \n",
    "print(target) "
   ]
  },
  {
   "cell_type": "code",
   "execution_count": null,
   "id": "c5388e57",
   "metadata": {},
   "outputs": [],
   "source": [
    "def train(att,tar): \n",
    "    for i,val in enumerate(tar): \n",
    "        if val=='Yes': \n",
    "            specific_h=att[i].copy() \n",
    "            break \n",
    "    for i,val in enumerate(att): \n",
    "        if tar[i]=='Yes': \n",
    "            for x in range(len(specific_h)): \n",
    "                if val[x]!=specific_h[x]: \n",
    "                    specific_h[x]='?' \n",
    "                else: \n",
    "                    pass \n",
    "    return specific_h \n",
    "print(train(attribute,target)) "
   ]
  }
 ],
 "metadata": {
  "kernelspec": {
   "display_name": "Python 3 (ipykernel)",
   "language": "python",
   "name": "python3"
  },
  "language_info": {
   "codemirror_mode": {
    "name": "ipython",
    "version": 3
   },
   "file_extension": ".py",
   "mimetype": "text/x-python",
   "name": "python",
   "nbconvert_exporter": "python",
   "pygments_lexer": "ipython3",
   "version": "3.11.5"
  }
 },
 "nbformat": 4,
 "nbformat_minor": 5
}
