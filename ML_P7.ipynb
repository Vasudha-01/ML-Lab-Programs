{
 "cells": [
  {
   "cell_type": "code",
   "execution_count": null,
   "id": "b9af7bba",
   "metadata": {},
   "outputs": [],
   "source": [
    "from sklearn.cluster import KMeans \n",
    "from sklearn import preprocessing \n",
    "from sklearn.mixture import GaussianMixture \n",
    "from sklearn.datasets import load_iris \n",
    "import sklearn.metrics as sm \n",
    "import pandas as pd \n",
    "import numpy as np \n",
    "import matplotlib.pyplot as plt "
   ]
  },
  {
   "cell_type": "code",
   "execution_count": null,
   "id": "1cd3b46f",
   "metadata": {},
   "outputs": [],
   "source": [
    "dataset=load_iris() "
   ]
  },
  {
   "cell_type": "code",
   "execution_count": null,
   "id": "3365f242",
   "metadata": {},
   "outputs": [],
   "source": [
    "X=pd.DataFrame(dataset.data) \n",
    "X.columns=['Sepal_Length','Sepal_Width','Petal_Length','Petal_Width'] \n",
    "y=pd.DataFrame(dataset.target) \n",
    "y.columns=['Targets'] "
   ]
  },
  {
   "cell_type": "code",
   "execution_count": null,
   "id": "2c2bdc2a",
   "metadata": {},
   "outputs": [],
   "source": [
    "plt.figure(figsize=(14,7)) \n",
    "colormap=np.array(['red','lime','black']) "
   ]
  },
  {
   "cell_type": "code",
   "execution_count": null,
   "id": "4a93cc3d",
   "metadata": {},
   "outputs": [],
   "source": [
    "plt.subplot(1,3,1) \n",
    "plt.scatter(X.Petal_Length,X.Petal_Width,c=colormap[y.Targets],s=40) \n",
    "plt.title('Real')"
   ]
  },
  {
   "cell_type": "code",
   "execution_count": null,
   "id": "904d77a5",
   "metadata": {},
   "outputs": [],
   "source": [
    "plt.subplot(1,3,2) \n",
    "model=KMeans(n_clusters=3) \n",
    "model.fit(X) \n",
    "predY=np.choose(model.labels_,[0,1,2]).astype(np.int64) \n",
    "plt.scatter(X.Petal_Length,X.Petal_Width,c=colormap[predY],s=40) \n",
    "plt.title('KMeans')"
   ]
  },
  {
   "cell_type": "code",
   "execution_count": null,
   "id": "a5c8e89f",
   "metadata": {},
   "outputs": [],
   "source": [
    "scaler=preprocessing.StandardScaler() \n",
    "scaler.fit(X) \n",
    "xsa=scaler.transform(X) \n",
    "xs=pd.DataFrame(xsa,columns=X.columns) \n",
    "gmm=GaussianMixture(n_components=3) \n",
    "gmm.fit(xs) \n",
    "y_cluster_gmm=gmm.predict(xs) \n",
    "plt.subplot(1,3,3) \n",
    "plt.scatter(X.Petal_Length,X.Petal_Width,c=colormap[y_cluster_gmm],s=40) \n",
    "plt.title('GMM Classification') "
   ]
  },
  {
   "cell_type": "code",
   "execution_count": null,
   "id": "389bee37",
   "metadata": {},
   "outputs": [],
   "source": [
    "kmeans_labels = model.labels_\n",
    "gmm_labels = gmm.fit_predict(X)"
   ]
  },
  {
   "cell_type": "code",
   "execution_count": null,
   "id": "1ac297e3",
   "metadata": {},
   "outputs": [],
   "source": [
    "from sklearn.metrics import adjusted_rand_score, silhouette_score \n",
    "# Silhouette Score \n",
    "silhouette_kmeans = silhouette_score(y, kmeans_labels) \n",
    "silhouette_gmm = silhouette_score(y, gmm_labels) \n",
    "print(f'Silhouette Score for k-Means: {silhouette_kmeans}') \n",
    "print(f'Silhouette Score for GMM: {silhouette_gmm}')"
   ]
  }
 ],
 "metadata": {
  "kernelspec": {
   "display_name": "Python 3 (ipykernel)",
   "language": "python",
   "name": "python3"
  },
  "language_info": {
   "codemirror_mode": {
    "name": "ipython",
    "version": 3
   },
   "file_extension": ".py",
   "mimetype": "text/x-python",
   "name": "python",
   "nbconvert_exporter": "python",
   "pygments_lexer": "ipython3",
   "version": "3.11.5"
  }
 },
 "nbformat": 4,
 "nbformat_minor": 5
}
